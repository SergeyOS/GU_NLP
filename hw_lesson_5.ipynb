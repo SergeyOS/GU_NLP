{
 "cells": [
  {
   "cell_type": "markdown",
   "metadata": {},
   "source": [
    "#### Задание \n",
    "Берем отызывы за лето (из архива с материалами или предыдущего занятия)\n",
    "1. Учим conv сеть для классификации - выбить auc выше 0.95\n",
    "2. Предобучаем word2vec и его эмбединга инициализируем сетку, как влияет на качество?"
   ]
  },
  {
   "cell_type": "code",
   "execution_count": 1,
   "metadata": {},
   "outputs": [],
   "source": [
    "import pandas as pd\n",
    "from string import punctuation\n",
    "from nltk.corpus import stopwords\n",
    "from nltk.tokenize import word_tokenize\n",
    "from pymorphy2 import MorphAnalyzer\n",
    "import re\n",
    "import html\n",
    "import warnings\n",
    "warnings.filterwarnings(\"ignore\")\n",
    "import matplotlib.pyplot as plt\n",
    "from sklearn.model_selection import train_test_split"
   ]
  },
  {
   "cell_type": "code",
   "execution_count": 2,
   "metadata": {},
   "outputs": [
    {
     "name": "stderr",
     "output_type": "stream",
     "text": [
      "Using TensorFlow backend.\n"
     ]
    }
   ],
   "source": [
    "import numpy as np\n",
    "import keras\n",
    "from keras.models import Sequential, Model\n",
    "from keras.layers import Dense, Dropout, Activation, Input, Embedding, Conv1D, GlobalMaxPool1D, BatchNormalization\n",
    "from keras.preprocessing.text import Tokenizer\n",
    "from keras.preprocessing.sequence import pad_sequences\n",
    "from keras.callbacks import TensorBoard \n",
    "from keras.objectives import categorical_crossentropy\n",
    "from keras.callbacks import EarlyStopping "
   ]
  },
  {
   "cell_type": "code",
   "execution_count": 3,
   "metadata": {},
   "outputs": [],
   "source": [
    "from gensim.models.word2vec import Word2Vec"
   ]
  },
  {
   "cell_type": "code",
   "execution_count": 4,
   "metadata": {},
   "outputs": [],
   "source": [
    "stopwords=set(stopwords.words('russian'))\n",
    "exclude = set(punctuation)\n",
    "morpher = MorphAnalyzer()"
   ]
  },
  {
   "cell_type": "markdown",
   "metadata": {},
   "source": [
    "#### Гиперпараметры"
   ]
  },
  {
   "cell_type": "code",
   "execution_count": 5,
   "metadata": {},
   "outputs": [],
   "source": [
    "max_words = 20000\n",
    "max_len = 200\n",
    "num_classes = 1\n",
    "\n",
    "# Training\n",
    "epochs = 20\n",
    "batch_size = 512\n",
    "print_batch_n = 100"
   ]
  },
  {
   "cell_type": "code",
   "execution_count": 6,
   "metadata": {},
   "outputs": [],
   "source": [
    "history = {}"
   ]
  },
  {
   "cell_type": "markdown",
   "metadata": {},
   "source": [
    "#### Подготовка датасета"
   ]
  },
  {
   "cell_type": "code",
   "execution_count": 7,
   "metadata": {},
   "outputs": [
    {
     "data": {
      "text/html": [
       "<div>\n",
       "<style scoped>\n",
       "    .dataframe tbody tr th:only-of-type {\n",
       "        vertical-align: middle;\n",
       "    }\n",
       "\n",
       "    .dataframe tbody tr th {\n",
       "        vertical-align: top;\n",
       "    }\n",
       "\n",
       "    .dataframe thead th {\n",
       "        text-align: right;\n",
       "    }\n",
       "</style>\n",
       "<table border=\"1\" class=\"dataframe\">\n",
       "  <thead>\n",
       "    <tr style=\"text-align: right;\">\n",
       "      <th></th>\n",
       "      <th>Rating</th>\n",
       "      <th>Content</th>\n",
       "      <th>Date</th>\n",
       "    </tr>\n",
       "  </thead>\n",
       "  <tbody>\n",
       "    <tr>\n",
       "      <th>0</th>\n",
       "      <td>5</td>\n",
       "      <td>It just works!</td>\n",
       "      <td>2017-08-14</td>\n",
       "    </tr>\n",
       "    <tr>\n",
       "      <th>1</th>\n",
       "      <td>4</td>\n",
       "      <td>В целом удобноное приложение...из минусов хотя...</td>\n",
       "      <td>2017-08-14</td>\n",
       "    </tr>\n",
       "    <tr>\n",
       "      <th>2</th>\n",
       "      <td>5</td>\n",
       "      <td>Отлично все</td>\n",
       "      <td>2017-08-14</td>\n",
       "    </tr>\n",
       "    <tr>\n",
       "      <th>3</th>\n",
       "      <td>5</td>\n",
       "      <td>Стал зависать на 1% работы антивируса. Дальше ...</td>\n",
       "      <td>2017-08-14</td>\n",
       "    </tr>\n",
       "    <tr>\n",
       "      <th>4</th>\n",
       "      <td>5</td>\n",
       "      <td>Очень удобно, работает быстро.</td>\n",
       "      <td>2017-08-14</td>\n",
       "    </tr>\n",
       "    <tr>\n",
       "      <th>5</th>\n",
       "      <td>5</td>\n",
       "      <td>Всё удобно норм 👍👍👍</td>\n",
       "      <td>2017-08-14</td>\n",
       "    </tr>\n",
       "    <tr>\n",
       "      <th>6</th>\n",
       "      <td>5</td>\n",
       "      <td>Очень удобное приложение.</td>\n",
       "      <td>2017-08-14</td>\n",
       "    </tr>\n",
       "    <tr>\n",
       "      <th>7</th>\n",
       "      <td>5</td>\n",
       "      <td>Все устраивает</td>\n",
       "      <td>2017-08-14</td>\n",
       "    </tr>\n",
       "    <tr>\n",
       "      <th>8</th>\n",
       "      <td>5</td>\n",
       "      <td>У меня работает все четко. В отличии от банком...</td>\n",
       "      <td>2017-08-14</td>\n",
       "    </tr>\n",
       "    <tr>\n",
       "      <th>9</th>\n",
       "      <td>5</td>\n",
       "      <td>Очень все хорошо👍</td>\n",
       "      <td>2017-08-14</td>\n",
       "    </tr>\n",
       "    <tr>\n",
       "      <th>10</th>\n",
       "      <td>5</td>\n",
       "      <td>Все ок!</td>\n",
       "      <td>2017-08-14</td>\n",
       "    </tr>\n",
       "    <tr>\n",
       "      <th>11</th>\n",
       "      <td>5</td>\n",
       "      <td>Все нормально, кроме того что уведомление нель...</td>\n",
       "      <td>2017-08-14</td>\n",
       "    </tr>\n",
       "    <tr>\n",
       "      <th>12</th>\n",
       "      <td>2</td>\n",
       "      <td>Не стартует без доступа к gps, sms, звонкам и ...</td>\n",
       "      <td>2017-08-14</td>\n",
       "    </tr>\n",
       "    <tr>\n",
       "      <th>13</th>\n",
       "      <td>5</td>\n",
       "      <td>Очень удобно, работает замечательно, подвисани...</td>\n",
       "      <td>2017-08-14</td>\n",
       "    </tr>\n",
       "    <tr>\n",
       "      <th>14</th>\n",
       "      <td>5</td>\n",
       "      <td>Очень удобно</td>\n",
       "      <td>2017-08-14</td>\n",
       "    </tr>\n",
       "    <tr>\n",
       "      <th>15</th>\n",
       "      <td>5</td>\n",
       "      <td>Очень удобная штука</td>\n",
       "      <td>2017-08-14</td>\n",
       "    </tr>\n",
       "    <tr>\n",
       "      <th>16</th>\n",
       "      <td>5</td>\n",
       "      <td>Отличное приложение</td>\n",
       "      <td>2017-08-14</td>\n",
       "    </tr>\n",
       "    <tr>\n",
       "      <th>17</th>\n",
       "      <td>5</td>\n",
       "      <td>Удобно практично</td>\n",
       "      <td>2017-08-14</td>\n",
       "    </tr>\n",
       "    <tr>\n",
       "      <th>18</th>\n",
       "      <td>5</td>\n",
       "      <td>Очень удобное приложение, для оплаты платежей ...</td>\n",
       "      <td>2017-08-14</td>\n",
       "    </tr>\n",
       "    <tr>\n",
       "      <th>19</th>\n",
       "      <td>5</td>\n",
       "      <td>Удобно и быстро</td>\n",
       "      <td>2017-08-14</td>\n",
       "    </tr>\n",
       "  </tbody>\n",
       "</table>\n",
       "</div>"
      ],
      "text/plain": [
       "    Rating                                            Content        Date\n",
       "0        5                                     It just works!  2017-08-14\n",
       "1        4  В целом удобноное приложение...из минусов хотя...  2017-08-14\n",
       "2        5                                        Отлично все  2017-08-14\n",
       "3        5  Стал зависать на 1% работы антивируса. Дальше ...  2017-08-14\n",
       "4        5                     Очень удобно, работает быстро.  2017-08-14\n",
       "5        5                                Всё удобно норм 👍👍👍  2017-08-14\n",
       "6        5                          Очень удобное приложение.  2017-08-14\n",
       "7        5                                     Все устраивает  2017-08-14\n",
       "8        5  У меня работает все четко. В отличии от банком...  2017-08-14\n",
       "9        5                                  Очень все хорошо👍  2017-08-14\n",
       "10       5                                            Все ок!  2017-08-14\n",
       "11       5  Все нормально, кроме того что уведомление нель...  2017-08-14\n",
       "12       2  Не стартует без доступа к gps, sms, звонкам и ...  2017-08-14\n",
       "13       5  Очень удобно, работает замечательно, подвисани...  2017-08-14\n",
       "14       5                                       Очень удобно  2017-08-14\n",
       "15       5                                Очень удобная штука  2017-08-14\n",
       "16       5                                Отличное приложение  2017-08-14\n",
       "17       5                                   Удобно практично  2017-08-14\n",
       "18       5  Очень удобное приложение, для оплаты платежей ...  2017-08-14\n",
       "19       5                                    Удобно и быстро  2017-08-14"
      ]
     },
     "execution_count": 7,
     "metadata": {},
     "output_type": "execute_result"
    }
   ],
   "source": [
    "data = pd.read_excel(\"отзывы за лето.xls\")\n",
    "data.head(20)"
   ]
  },
  {
   "cell_type": "code",
   "execution_count": 8,
   "metadata": {},
   "outputs": [],
   "source": [
    "emoticon_dict = {\n",
    "\":)\": \"веселый\",\n",
    "\":‑)\": \"веселый\",\n",
    "\":-]\": \"веселый\",\n",
    "\":-3\": \"веселый\",\n",
    "\":->\": \"веселый\",\n",
    "\"8-)\": \"веселый\",\n",
    "\":-}\": \"веселый\",\n",
    "\":o)\": \"веселый\",\n",
    "\":c)\": \"веселый\",\n",
    "\":^)\": \"веселый\",\n",
    "\"=]\": \"веселый\",\n",
    "\"=)\": \"веселый\",\n",
    "\"<3\": \"веселый\",\n",
    "\":-(\": \"грустный\",\n",
    "\":(\": \"грустный\",\n",
    "\":c\": \"грустный\",\n",
    "\":<\": \"грустный\",\n",
    "\":[\": \"грустный\",\n",
    "\">:[\": \"грустный\",\n",
    "\":{\": \"грустный\",\n",
    "\">:(\": \"грустный\",\n",
    "\":-c\": \"грустный\",\n",
    "\":-< \": \"грустный\",\n",
    "\":-[\": \"грустный\",\n",
    "\":-||\": \"грустный\"\n",
    "}"
   ]
  },
  {
   "cell_type": "code",
   "execution_count": 9,
   "metadata": {},
   "outputs": [],
   "source": [
    "def  replace_words_in_dictonary(text, dictionary_words):     \n",
    "    return ' '.join(dictionary_words.get(word, word) for word in text.split())\n",
    "\n",
    "### Заменим эмотиконы (пример: \":)\" = \"happy\") на пробелы, используя emoticon_dict. \n",
    "### Для этого воспользуемся функцией, используемой в предыдущем пункте.\n",
    "def replace_emoticon(text):\n",
    "    global emoticon_dict\n",
    "    return replace_words_in_dictonary(str(text), emoticon_dict)\n",
    "\n",
    "def replace_special_symbol(text):\n",
    "    return  html.unescape(text)\n",
    "\n",
    "def preprocess_text(text):\n",
    "    global stopwords, exclude, morpher\n",
    "    \n",
    "    text = str(text)\n",
    "    text = text.lower()\n",
    "    text = re.sub('https?://\\S+|www\\.\\S+', ' ', text)\n",
    "    text = replace_emoticon(text)\n",
    "    text = replace_special_symbol(text)\n",
    "    text = \"\".join(c for c in text if c not in exclude)\n",
    "    text = re.sub(r'[^\\w\\s]',' ', text)\n",
    "    text = re.sub(r'[0-9]+', ' ', text)\n",
    "    text = re.sub('\\n', ' ', text)\n",
    "    text = [morpher.parse(word)[0].normal_form for word in text.split() if word not in stopwords]\n",
    "    text = \" \".join(text)\n",
    "    text = re.sub(\"не\\s\", \"не\", text)\n",
    "    return text"
   ]
  },
  {
   "cell_type": "code",
   "execution_count": 10,
   "metadata": {},
   "outputs": [
    {
     "data": {
      "text/html": [
       "<div>\n",
       "<style scoped>\n",
       "    .dataframe tbody tr th:only-of-type {\n",
       "        vertical-align: middle;\n",
       "    }\n",
       "\n",
       "    .dataframe tbody tr th {\n",
       "        vertical-align: top;\n",
       "    }\n",
       "\n",
       "    .dataframe thead th {\n",
       "        text-align: right;\n",
       "    }\n",
       "</style>\n",
       "<table border=\"1\" class=\"dataframe\">\n",
       "  <thead>\n",
       "    <tr style=\"text-align: right;\">\n",
       "      <th></th>\n",
       "      <th>Rating</th>\n",
       "      <th>Content</th>\n",
       "      <th>Date</th>\n",
       "      <th>text</th>\n",
       "      <th>target</th>\n",
       "    </tr>\n",
       "  </thead>\n",
       "  <tbody>\n",
       "    <tr>\n",
       "      <th>0</th>\n",
       "      <td>5</td>\n",
       "      <td>It just works!</td>\n",
       "      <td>2017-08-14</td>\n",
       "      <td>it just works</td>\n",
       "      <td>1</td>\n",
       "    </tr>\n",
       "    <tr>\n",
       "      <th>1</th>\n",
       "      <td>4</td>\n",
       "      <td>В целом удобноное приложение...из минусов хотя...</td>\n",
       "      <td>2017-08-14</td>\n",
       "      <td>целое удобноной приложениеиз минус хотеть слиш...</td>\n",
       "      <td>1</td>\n",
       "    </tr>\n",
       "    <tr>\n",
       "      <th>2</th>\n",
       "      <td>5</td>\n",
       "      <td>Отлично все</td>\n",
       "      <td>2017-08-14</td>\n",
       "      <td>отлично</td>\n",
       "      <td>1</td>\n",
       "    </tr>\n",
       "    <tr>\n",
       "      <th>3</th>\n",
       "      <td>5</td>\n",
       "      <td>Стал зависать на 1% работы антивируса. Дальше ...</td>\n",
       "      <td>2017-08-14</td>\n",
       "      <td>стать зависать работа антивирус далёкий никуда...</td>\n",
       "      <td>1</td>\n",
       "    </tr>\n",
       "    <tr>\n",
       "      <th>4</th>\n",
       "      <td>5</td>\n",
       "      <td>Очень удобно, работает быстро.</td>\n",
       "      <td>2017-08-14</td>\n",
       "      <td>очень удобно работать быстро</td>\n",
       "      <td>1</td>\n",
       "    </tr>\n",
       "    <tr>\n",
       "      <th>5</th>\n",
       "      <td>5</td>\n",
       "      <td>Всё удобно норм 👍👍👍</td>\n",
       "      <td>2017-08-14</td>\n",
       "      <td>весь удобно норма</td>\n",
       "      <td>1</td>\n",
       "    </tr>\n",
       "    <tr>\n",
       "      <th>6</th>\n",
       "      <td>5</td>\n",
       "      <td>Очень удобное приложение.</td>\n",
       "      <td>2017-08-14</td>\n",
       "      <td>очень удобный приложение</td>\n",
       "      <td>1</td>\n",
       "    </tr>\n",
       "    <tr>\n",
       "      <th>7</th>\n",
       "      <td>5</td>\n",
       "      <td>Все устраивает</td>\n",
       "      <td>2017-08-14</td>\n",
       "      <td>устраивать</td>\n",
       "      <td>1</td>\n",
       "    </tr>\n",
       "    <tr>\n",
       "      <th>8</th>\n",
       "      <td>5</td>\n",
       "      <td>У меня работает все четко. В отличии от банком...</td>\n",
       "      <td>2017-08-14</td>\n",
       "      <td>работать чётко отличие банкомат который вечно ...</td>\n",
       "      <td>1</td>\n",
       "    </tr>\n",
       "    <tr>\n",
       "      <th>9</th>\n",
       "      <td>5</td>\n",
       "      <td>Очень все хорошо👍</td>\n",
       "      <td>2017-08-14</td>\n",
       "      <td>очень</td>\n",
       "      <td>1</td>\n",
       "    </tr>\n",
       "    <tr>\n",
       "      <th>10</th>\n",
       "      <td>5</td>\n",
       "      <td>Все ок!</td>\n",
       "      <td>2017-08-14</td>\n",
       "      <td>ок</td>\n",
       "      <td>1</td>\n",
       "    </tr>\n",
       "    <tr>\n",
       "      <th>11</th>\n",
       "      <td>5</td>\n",
       "      <td>Все нормально, кроме того что уведомление нель...</td>\n",
       "      <td>2017-08-14</td>\n",
       "      <td>нормальный кроме уведомление удалять</td>\n",
       "      <td>1</td>\n",
       "    </tr>\n",
       "    <tr>\n",
       "      <th>12</th>\n",
       "      <td>2</td>\n",
       "      <td>Не стартует без доступа к gps, sms, звонкам и ...</td>\n",
       "      <td>2017-08-14</td>\n",
       "      <td>стартовать доступ gps sms звонок адресный книг...</td>\n",
       "      <td>0</td>\n",
       "    </tr>\n",
       "    <tr>\n",
       "      <th>13</th>\n",
       "      <td>5</td>\n",
       "      <td>Очень удобно, работает замечательно, подвисани...</td>\n",
       "      <td>2017-08-14</td>\n",
       "      <td>очень удобно работать замечательный подвисания</td>\n",
       "      <td>1</td>\n",
       "    </tr>\n",
       "    <tr>\n",
       "      <th>14</th>\n",
       "      <td>5</td>\n",
       "      <td>Очень удобно</td>\n",
       "      <td>2017-08-14</td>\n",
       "      <td>очень удобно</td>\n",
       "      <td>1</td>\n",
       "    </tr>\n",
       "    <tr>\n",
       "      <th>15</th>\n",
       "      <td>5</td>\n",
       "      <td>Очень удобная штука</td>\n",
       "      <td>2017-08-14</td>\n",
       "      <td>очень удобный штука</td>\n",
       "      <td>1</td>\n",
       "    </tr>\n",
       "    <tr>\n",
       "      <th>16</th>\n",
       "      <td>5</td>\n",
       "      <td>Отличное приложение</td>\n",
       "      <td>2017-08-14</td>\n",
       "      <td>отличный приложение</td>\n",
       "      <td>1</td>\n",
       "    </tr>\n",
       "    <tr>\n",
       "      <th>17</th>\n",
       "      <td>5</td>\n",
       "      <td>Удобно практично</td>\n",
       "      <td>2017-08-14</td>\n",
       "      <td>удобно практично</td>\n",
       "      <td>1</td>\n",
       "    </tr>\n",
       "    <tr>\n",
       "      <th>18</th>\n",
       "      <td>5</td>\n",
       "      <td>Очень удобное приложение, для оплаты платежей ...</td>\n",
       "      <td>2017-08-14</td>\n",
       "      <td>очень удобный приложение оплата платёж перевод</td>\n",
       "      <td>1</td>\n",
       "    </tr>\n",
       "    <tr>\n",
       "      <th>19</th>\n",
       "      <td>5</td>\n",
       "      <td>Удобно и быстро</td>\n",
       "      <td>2017-08-14</td>\n",
       "      <td>удобно быстро</td>\n",
       "      <td>1</td>\n",
       "    </tr>\n",
       "  </tbody>\n",
       "</table>\n",
       "</div>"
      ],
      "text/plain": [
       "    Rating                                            Content        Date  \\\n",
       "0        5                                     It just works!  2017-08-14   \n",
       "1        4  В целом удобноное приложение...из минусов хотя...  2017-08-14   \n",
       "2        5                                        Отлично все  2017-08-14   \n",
       "3        5  Стал зависать на 1% работы антивируса. Дальше ...  2017-08-14   \n",
       "4        5                     Очень удобно, работает быстро.  2017-08-14   \n",
       "5        5                                Всё удобно норм 👍👍👍  2017-08-14   \n",
       "6        5                          Очень удобное приложение.  2017-08-14   \n",
       "7        5                                     Все устраивает  2017-08-14   \n",
       "8        5  У меня работает все четко. В отличии от банком...  2017-08-14   \n",
       "9        5                                  Очень все хорошо👍  2017-08-14   \n",
       "10       5                                            Все ок!  2017-08-14   \n",
       "11       5  Все нормально, кроме того что уведомление нель...  2017-08-14   \n",
       "12       2  Не стартует без доступа к gps, sms, звонкам и ...  2017-08-14   \n",
       "13       5  Очень удобно, работает замечательно, подвисани...  2017-08-14   \n",
       "14       5                                       Очень удобно  2017-08-14   \n",
       "15       5                                Очень удобная штука  2017-08-14   \n",
       "16       5                                Отличное приложение  2017-08-14   \n",
       "17       5                                   Удобно практично  2017-08-14   \n",
       "18       5  Очень удобное приложение, для оплаты платежей ...  2017-08-14   \n",
       "19       5                                    Удобно и быстро  2017-08-14   \n",
       "\n",
       "                                                 text  target  \n",
       "0                                       it just works       1  \n",
       "1   целое удобноной приложениеиз минус хотеть слиш...       1  \n",
       "2                                             отлично       1  \n",
       "3   стать зависать работа антивирус далёкий никуда...       1  \n",
       "4                        очень удобно работать быстро       1  \n",
       "5                                   весь удобно норма       1  \n",
       "6                            очень удобный приложение       1  \n",
       "7                                          устраивать       1  \n",
       "8   работать чётко отличие банкомат который вечно ...       1  \n",
       "9                                               очень       1  \n",
       "10                                                 ок       1  \n",
       "11               нормальный кроме уведомление удалять       1  \n",
       "12  стартовать доступ gps sms звонок адресный книг...       0  \n",
       "13     очень удобно работать замечательный подвисания       1  \n",
       "14                                       очень удобно       1  \n",
       "15                                очень удобный штука       1  \n",
       "16                                отличный приложение       1  \n",
       "17                                   удобно практично       1  \n",
       "18     очень удобный приложение оплата платёж перевод       1  \n",
       "19                                      удобно быстро       1  "
      ]
     },
     "execution_count": 10,
     "metadata": {},
     "output_type": "execute_result"
    }
   ],
   "source": [
    "data['text'] = data['Content'].apply(preprocess_text)\n",
    "data = data[data['Rating'] != 3] #удаляем строки\n",
    "data['target'] = (data['Rating'] > 3).astype(int)\n",
    "data.head(20)"
   ]
  },
  {
   "cell_type": "code",
   "execution_count": 11,
   "metadata": {},
   "outputs": [],
   "source": [
    "X_train, X_val, y_train, y_val = train_test_split(data['text'], data['target'], test_size=0.2,\n",
    "                                                    random_state=42, stratify=data['target'])"
   ]
  },
  {
   "cell_type": "code",
   "execution_count": 12,
   "metadata": {},
   "outputs": [],
   "source": [
    "def text_to_sequence(text, maxlen, vocabulary):\n",
    "    result = []\n",
    "    tokens = word_tokenize(text.lower())\n",
    "    tokens_filtered = [word for word in tokens if word.isalnum()]\n",
    "    for word in tokens_filtered:\n",
    "        if word in vocabulary:\n",
    "            result.append(vocabulary[word])\n",
    "    padding = [0]*(maxlen-len(result))\n",
    "    return padding + result[-maxlen:]"
   ]
  },
  {
   "cell_type": "code",
   "execution_count": 13,
   "metadata": {},
   "outputs": [],
   "source": [
    "train_corpus = \" \".join(X_train)\n",
    "train_corpus = train_corpus.lower()\n",
    "tokens = word_tokenize(train_corpus)\n",
    "tokens_filtered = [word for word in tokens if word.isalnum()]"
   ]
  },
  {
   "cell_type": "code",
   "execution_count": 14,
   "metadata": {},
   "outputs": [],
   "source": [
    "from nltk.probability import FreqDist\n",
    "dist = FreqDist(tokens_filtered)\n",
    "tokens_filtered_top = [pair[0] for pair in dist.most_common(max_words-1)]\n",
    "vocabulary = {v: k for k, v in dict(enumerate(tokens_filtered_top, 1)).items()}"
   ]
  },
  {
   "cell_type": "code",
   "execution_count": 15,
   "metadata": {},
   "outputs": [],
   "source": [
    "x_train_matrix = np.asarray([text_to_sequence(text, max_len, vocabulary) for text in X_train], dtype=np.int32)\n",
    "x_val_matrix = np.asarray([text_to_sequence(text, max_len, vocabulary) for text in X_val], dtype=np.int32)"
   ]
  },
  {
   "cell_type": "code",
   "execution_count": 16,
   "metadata": {},
   "outputs": [],
   "source": [
    "num_classes = 2\n",
    "y_train = keras.utils.to_categorical(y_train, num_classes)\n",
    "y_val = keras.utils.to_categorical(y_val, num_classes)"
   ]
  },
  {
   "cell_type": "markdown",
   "metadata": {},
   "source": [
    "#### Структура сети"
   ]
  },
  {
   "cell_type": "code",
   "execution_count": 17,
   "metadata": {},
   "outputs": [],
   "source": [
    "def get_model(metric, weights=None):\n",
    "    global max_len, max_words\n",
    "    model = Sequential()\n",
    "    if weights is None:\n",
    "        print('Not use Embedding weights')\n",
    "        model.add(Embedding(input_dim=max_words, output_dim=128, input_length=max_len))\n",
    "    else:\n",
    "        print('Use Embedding weights')\n",
    "        model.add(Embedding(input_dim=max_words, output_dim=128, input_length=max_len, weights=[weights]))\n",
    "    model.add(Conv1D(32, 3))\n",
    "    model.add(Activation(\"relu\"))\n",
    "    model.add(GlobalMaxPool1D())\n",
    "    model.add(Dense(20))\n",
    "    model.add(Activation(\"relu\"))\n",
    "    model.add(Dropout(0.4))\n",
    "    model.add(Dense(num_classes))\n",
    "    model.add(Activation('sigmoid'))\n",
    "\n",
    "    model.compile(loss='binary_crossentropy',\n",
    "                  optimizer='adam',\n",
    "                  metrics=[metric])\n",
    "    return model"
   ]
  },
  {
   "cell_type": "code",
   "execution_count": 31,
   "metadata": {},
   "outputs": [
    {
     "name": "stdout",
     "output_type": "stream",
     "text": [
      "Not use Embedding weights\n"
     ]
    }
   ],
   "source": [
    "metric = keras.metrics.AUC()\n",
    "metric.name='auc'\n",
    "model = get_model(metric)"
   ]
  },
  {
   "cell_type": "markdown",
   "metadata": {},
   "source": [
    "#### Обучение"
   ]
  },
  {
   "cell_type": "code",
   "execution_count": 32,
   "metadata": {},
   "outputs": [
    {
     "name": "stdout",
     "output_type": "stream",
     "text": [
      "Train on 14218 samples, validate on 1580 samples\n",
      "Epoch 1/20\n",
      "14218/14218 [==============================] - 6s 442us/step - loss: 0.5477 - auc: 0.8545 - val_loss: 0.4141 - val_auc: 0.9557\n",
      "Epoch 2/20\n",
      "14218/14218 [==============================] - 6s 417us/step - loss: 0.3952 - auc: 0.8997 - val_loss: 0.3130 - val_auc: 0.9607\n",
      "Epoch 3/20\n",
      "14218/14218 [==============================] - 23s 2ms/step - loss: 0.2620 - auc: 0.9639 - val_loss: 0.2089 - val_auc: 0.9743\n",
      "Epoch 4/20\n",
      "14218/14218 [==============================] - 10s 726us/step - loss: 0.1797 - auc: 0.9812 - val_loss: 0.1979 - val_auc: 0.9768\n",
      "Epoch 5/20\n",
      "14218/14218 [==============================] - 7s 510us/step - loss: 0.1421 - auc: 0.9879 - val_loss: 0.2014 - val_auc: 0.9773\n"
     ]
    }
   ],
   "source": [
    "early_stopping=EarlyStopping(monitor='val_loss')  \n",
    "\n",
    "\n",
    "history['baseline'] = model.fit(x_train_matrix, y_train,\n",
    "                    batch_size=batch_size,\n",
    "                    epochs=epochs,\n",
    "                    verbose=1,\n",
    "                    validation_split=0.1,\n",
    "                    callbacks=[early_stopping])"
   ]
  },
  {
   "cell_type": "code",
   "execution_count": 33,
   "metadata": {},
   "outputs": [
    {
     "name": "stdout",
     "output_type": "stream",
     "text": [
      "3950/3950 [==============================] - 0s 78us/step\n",
      "\n",
      "\n",
      "Test loss: 0.19126621500600743\n",
      "Test AUC: 0.9779981970787048\n"
     ]
    }
   ],
   "source": [
    "score = model.evaluate(x_val_matrix, y_val, batch_size=batch_size, verbose=1)\n",
    "print('\\n')\n",
    "print('Test loss:', score[0])\n",
    "print('Test AUC:', score[1])"
   ]
  },
  {
   "cell_type": "markdown",
   "metadata": {},
   "source": [
    "#### Подготовка эмбеддинга"
   ]
  },
  {
   "cell_type": "code",
   "execution_count": 34,
   "metadata": {},
   "outputs": [],
   "source": [
    "sentence_train = [[sentence] for sentence in X_train]"
   ]
  },
  {
   "cell_type": "code",
   "execution_count": 45,
   "metadata": {},
   "outputs": [],
   "source": [
    "modelW2V = Word2Vec(sentences=sentence_train, size=max_words)"
   ]
  },
  {
   "cell_type": "code",
   "execution_count": 46,
   "metadata": {},
   "outputs": [],
   "source": [
    "embedding_matrix = np.zeros((max_words, 128))"
   ]
  },
  {
   "cell_type": "code",
   "execution_count": 47,
   "metadata": {},
   "outputs": [],
   "source": [
    "result = []\n",
    "for word in vocabulary:\n",
    "    if word in modelW2V.wv:\n",
    "        padding = [0] * max(1, (128-len(modelW2V.wv[word])))\n",
    "        embedding_matrix[vocabulary[word]] = padding+modelW2V.wv[word][-128:]      "
   ]
  },
  {
   "cell_type": "markdown",
   "metadata": {},
   "source": [
    "#### Обучение модели"
   ]
  },
  {
   "cell_type": "code",
   "execution_count": 51,
   "metadata": {},
   "outputs": [
    {
     "name": "stdout",
     "output_type": "stream",
     "text": [
      "Use Embedding weights\n"
     ]
    }
   ],
   "source": [
    "metric = keras.metrics.AUC()\n",
    "metric.name='auc'\n",
    "model = get_model(metric, embedding_matrix)"
   ]
  },
  {
   "cell_type": "code",
   "execution_count": 52,
   "metadata": {},
   "outputs": [
    {
     "name": "stdout",
     "output_type": "stream",
     "text": [
      "Train on 14218 samples, validate on 1580 samples\n",
      "Epoch 1/20\n",
      "14218/14218 [==============================] - 6s 445us/step - loss: 0.5909 - auc: 0.8503 - val_loss: 0.4310 - val_auc: 0.9556\n",
      "Epoch 2/20\n",
      "14218/14218 [==============================] - 6s 415us/step - loss: 0.3755 - auc: 0.9143 - val_loss: 0.2821 - val_auc: 0.9661\n",
      "Epoch 3/20\n",
      "14218/14218 [==============================] - 11s 806us/step - loss: 0.2421 - auc: 0.9696 - val_loss: 0.2132 - val_auc: 0.9737\n",
      "Epoch 4/20\n",
      "14218/14218 [==============================] - 9s 639us/step - loss: 0.1719 - auc: 0.9835 - val_loss: 0.1993 - val_auc: 0.9764\n",
      "Epoch 5/20\n",
      "14218/14218 [==============================] - 8s 550us/step - loss: 0.1342 - auc: 0.9893 - val_loss: 0.2090 - val_auc: 0.9762\n"
     ]
    }
   ],
   "source": [
    "early_stopping=EarlyStopping(monitor='val_loss')  \n",
    "\n",
    "\n",
    "history['use_embedding'] = model.fit(x_train_matrix, y_train,\n",
    "                    batch_size=batch_size,\n",
    "                    epochs=epochs,\n",
    "                    verbose=1,\n",
    "                    validation_split=0.1,\n",
    "                    callbacks=[early_stopping])"
   ]
  },
  {
   "cell_type": "code",
   "execution_count": 53,
   "metadata": {},
   "outputs": [
    {
     "name": "stdout",
     "output_type": "stream",
     "text": [
      "3950/3950 [==============================] - 0s 75us/step\n",
      "\n",
      "\n",
      "Test loss: 0.19819096974934203\n",
      "Test AUC: 0.9779508709907532\n"
     ]
    }
   ],
   "source": [
    "score = model.evaluate(x_val_matrix, y_val, batch_size=batch_size, verbose=1)\n",
    "print('\\n')\n",
    "print('Test loss:', score[0])\n",
    "print('Test AUC:', score[1])"
   ]
  },
  {
   "cell_type": "code",
   "execution_count": 56,
   "metadata": {},
   "outputs": [],
   "source": [
    "def plot_history(history):\n",
    "    fig = plt.figure()\n",
    "    fig.set_size_inches(15, 15)\n",
    "\n",
    "    ax_1 = fig.add_subplot(2, 2, 1)\n",
    "    ax_2 = fig.add_subplot(2, 2, 2)\n",
    "    ax_3 = fig.add_subplot(2, 2, 3)\n",
    "    ax_4 = fig.add_subplot(2, 2, 4)\n",
    "\n",
    "\n",
    "    for key in history.keys():\n",
    "        ax_1.plot(history[key].history['auc'], label=key)\n",
    "        ax_2.plot(history[key].history['val_auc'], label=key)\n",
    "        ax_3.plot(history[key].history['loss'], label=key)\n",
    "        ax_4.plot(history[key].history['val_loss'], label=key)\n",
    "\n",
    "    ax_1.set(title = 'Model AUC on train data', label='AUC', xlabel='Epoch')\n",
    "    ax_1.legend(loc='lower right')\n",
    "    ax_2.set(title = 'Model AUC on test data', label='AUC', xlabel='Epoch')\n",
    "    ax_2.legend(loc='lower right')\n",
    "    ax_3.set(title = 'Model loss on train data', label='loss', xlabel='Epoch')\n",
    "    ax_3.legend(loc='upper right')\n",
    "    ax_4.set(title = 'Model loss on test data', label='loss', xlabel='Epoch')\n",
    "    ax_4.legend(loc='upper right')\n",
    "\n",
    "    plt.show()"
   ]
  },
  {
   "cell_type": "code",
   "execution_count": 57,
   "metadata": {},
   "outputs": [
    {
     "data": {
      "image/png": "[encoded data removed]",
      "text/plain": [
       "<Figure size 1080x1080 with 4 Axes>"
      ]
     },
     "metadata": {
      "needs_background": "light"
     },
     "output_type": "display_data"
    }
   ],
   "source": [
    "plot_history(history)"
   ]
  },
  {
   "cell_type": "markdown",
   "metadata": {},
   "source": [
    "##### Вывод:\n",
    "Использование эмбединга позволило модели на раннем этапе быстрее прийти к нужной точности. Но на скорость обучение в целом это не повлияло."
   ]
  },
  {
   "cell_type": "code",
   "execution_count": null,
   "metadata": {},
   "outputs": [],
   "source": []
  }
 ],
 "metadata": {
  "kernelspec": {
   "display_name": "Python 3",
   "language": "python",
   "name": "python3"
  },
  "language_info": {
   "codemirror_mode": {
    "name": "ipython",
    "version": 3
   },
   "file_extension": ".py",
   "mimetype": "text/x-python",
   "name": "python",
   "nbconvert_exporter": "python",
   "pygments_lexer": "ipython3",
   "version": "3.7.6"
  }
 },
 "nbformat": 4,
 "nbformat_minor": 4
}
